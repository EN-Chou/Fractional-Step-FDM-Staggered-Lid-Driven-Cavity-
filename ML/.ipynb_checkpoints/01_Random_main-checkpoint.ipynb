{
 "cells": [
  {
   "cell_type": "code",
   "execution_count": 1,
   "id": "2225eb56",
   "metadata": {},
   "outputs": [],
   "source": [
    "import torch\n",
    "from torch.utils.data import TensorDataset, DataLoader"
   ]
  },
  {
   "cell_type": "code",
   "execution_count": 2,
   "id": "5fd44d5c",
   "metadata": {},
   "outputs": [],
   "source": [
    "device=torch.device('cuda:0')\n",
    "learning_rate=1e-4"
   ]
  },
  {
   "cell_type": "code",
   "execution_count": 3,
   "id": "00c481de",
   "metadata": {},
   "outputs": [],
   "source": [
    "# Step 1. Prepare data-1/2\n",
    "# DataLoader wraps a Dataset and provides minibatches, shuffling, multithreading, for you\n",
    "x=torch.randn(64, 6724, device=device) #Input dimension of 1000\n",
    "y=torch.randn(64, 6724, device=device) #Output dimension of 10 i.e, ground-truth dimension\n",
    "loader=DataLoader(TensorDataset(x, y), batch_size=8)"
   ]
  },
  {
   "cell_type": "code",
   "execution_count": 4,
   "id": "9b2927d6",
   "metadata": {},
   "outputs": [],
   "source": [
    "# Step 2. Create model 建立model習慣建立class\n",
    "class TwoLayerNet(torch.nn.Module):\n",
    "    def __init__(self, D_in, H, B, D_out):\n",
    "        super(TwoLayerNet, self).__init__()\n",
    "        self.linear_1=torch.nn.Linear(D_in, H)\n",
    "        self.linear_2=torch.nn.Linear(H, B)\n",
    "        self.linear_3=torch.nn.Linear(B, D_out)\n",
    "    \n",
    "    # Step 3. Forward pass-1/2    # Step 4. Backward pass-1/2\n",
    "    def forward(self, x):\n",
    "        h=self.linear_1(x)\n",
    "        h_relu=torch.nn.functional.relu(h) #為何activation and hidden layer 的實現方式不同\n",
    "        b=self.linear_2(h_relu) \n",
    "        b_relu=torch.nn.functional.relu(b)\n",
    "        y_pred=self.linear_3(b_relu) \n",
    "        return y_pred\n",
    "    \n",
    "model= TwoLayerNet(D_in=6724, H=100, B=100, D_out=6724)\n",
    "model=model.to(device) #這行是什麼意思? A:将模型加载到相应的设备"
   ]
  },
  {
   "cell_type": "code",
   "execution_count": 5,
   "id": "40f022e5",
   "metadata": {},
   "outputs": [],
   "source": [
    "optimizer=torch.optim.Adam(model.parameters(), lr=learning_rate)"
   ]
  },
  {
   "cell_type": "code",
   "execution_count": 6,
   "id": "93a8f78f",
   "metadata": {},
   "outputs": [
    {
     "data": {
      "text/plain": [
       "Text(0, 0.5, 'loss')"
      ]
     },
     "execution_count": 6,
     "metadata": {},
     "output_type": "execute_result"
    },
    {
     "data": {
      "image/png": "[encoded data removed]",
      "text/plain": [
       "<Figure size 432x288 with 1 Axes>"
      ]
     },
     "metadata": {
      "needs_background": "light"
     },
     "output_type": "display_data"
    }
   ],
   "source": [
    "# Step 1. Prepare data-2/2\n",
    "# Iterate over loader to form mini-batches\n",
    "# Batch aims to deal with memory limitation in GPU\n",
    "\n",
    "loss_epoch=[]\n",
    "loss_values = []\n",
    "\n",
    "for epochs in range(500):\n",
    "    # Step 3. Forward pass-2/2  \n",
    "    # Feed data to model, and compute loss\n",
    "    \n",
    "    for x_batch, y_batch in loader:\n",
    "        y_pred=model(x_batch) #為何不是 model.forward(x_batch) #Forward 過程中同時建立computational graph\n",
    "        loss=torch.nn.functional.mse_loss(y_pred, y_batch) #Loss functions 是被定義在torch.nn.functional中\n",
    "        \n",
    "        # Step 4. Backward pass-2/2\n",
    "        # Compute gradient of loss wrt all model weights\n",
    "        loss.backward()\n",
    "        \n",
    "        # Step 5. Update Weights\n",
    "        optimizer.step()\n",
    "        optimizer.zero_grad() #此步為清空，否則會影響下一步gradient的計算\n",
    "        if epochs%25==0:\n",
    "            print(\"Epochs: \", epochs, \"; Loss: \", loss.item())\n",
    "    \n",
    "    loss_epoch.append(epochs)\n",
    "    loss_values.append(loss.item())\n",
    "\n",
    "    if loss<1e-3: #stop training criterion\n",
    "        print(\"Epochs: \", epochs, \"; Loss: \", loss.item())\n",
    "        break\n",
    "\n",
    "\n",
    "#Plot loss function\n",
    "from matplotlib import pyplot as plt\n",
    "plt.plot(loss_epoch, loss_values)\n",
    "plt.xlabel('epochs')\n",
    "plt.ylabel('loss')"
   ]
  },
  {
   "cell_type": "code",
   "execution_count": 7,
   "id": "b21522af",
   "metadata": {},
   "outputs": [],
   "source": [
    "PATH= \"01_model.pth\"\n",
    "torch.save(model.state_dict(), PATH)"
   ]
  },
  {
   "cell_type": "code",
   "execution_count": 14,
   "id": "e796b634",
   "metadata": {},
   "outputs": [],
   "source": [
    "PATH2= \"01_model_jit.pth\"\n",
    "traced_net=torch.jit.trace(model, torch.randn(1,1000))\n",
    "torch.jit.save(traced_net, PATH2)"
   ]
  },
  {
   "cell_type": "code",
   "execution_count": null,
   "id": "9ed9077b",
   "metadata": {},
   "outputs": [],
   "source": []
  }
 ],
 "metadata": {
  "kernelspec": {
   "display_name": "Python 3 (ipykernel)",
   "language": "python",
   "name": "python3"
  },
  "language_info": {
   "codemirror_mode": {
    "name": "ipython",
    "version": 3
   },
   "file_extension": ".py",
   "mimetype": "text/x-python",
   "name": "python",
   "nbconvert_exporter": "python",
   "pygments_lexer": "ipython3",
   "version": "3.10.4"
  }
 },
 "nbformat": 4,
 "nbformat_minor": 5
}
