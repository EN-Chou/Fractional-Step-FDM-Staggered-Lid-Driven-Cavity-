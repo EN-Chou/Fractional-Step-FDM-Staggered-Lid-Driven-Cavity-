{
 "cells": [
  {
   "cell_type": "code",
   "execution_count": 7,
   "id": "67f524e4",
   "metadata": {},
   "outputs": [],
   "source": [
    "import torch\n",
    "from torch.utils.data import TensorDataset, DataLoader\n",
    "import numpy as np"
   ]
  },
  {
   "cell_type": "code",
   "execution_count": 8,
   "id": "d3c09960",
   "metadata": {},
   "outputs": [],
   "source": [
    "device=torch.device('cpu')"
   ]
  },
  {
   "cell_type": "code",
   "execution_count": 9,
   "id": "119d73ef",
   "metadata": {},
   "outputs": [
    {
     "name": "stdout",
     "output_type": "stream",
     "text": [
      "torch.Size([100, 4])\n"
     ]
    }
   ],
   "source": [
    "# Step 1. Prepare data-1/2\n",
    "# DataLoader wraps a Dataset and provides minibatches, shuffling, multithreading, for you\n",
    "x=torch.randn(100, 4, device=device)\n",
    "y=x*2\n",
    "print(x.size())"
   ]
  },
  {
   "cell_type": "code",
   "execution_count": 10,
   "id": "45c2379e",
   "metadata": {},
   "outputs": [],
   "source": [
    "loader=DataLoader(TensorDataset(x, y), batch_size=50)"
   ]
  },
  {
   "cell_type": "code",
   "execution_count": 11,
   "id": "ce31d067",
   "metadata": {},
   "outputs": [],
   "source": [
    "# Step 2. Create model 建立model習慣建立class\n",
    "class TwoLayerNet(torch.nn.Module):\n",
    "    def __init__(self, D_in, H, B, D_out):\n",
    "        super(TwoLayerNet, self).__init__()\n",
    "        self.linear_1=torch.nn.Linear(D_in, H)\n",
    "        self.linear_2=torch.nn.Linear(H, B)\n",
    "        self.linear_3=torch.nn.Linear(B, D_out)\n",
    "    \n",
    "    # Step 3. Forward pass-1/2    # Step 4. Backward pass-1/2\n",
    "    def forward(self, x):\n",
    "        h=self.linear_1(x)\n",
    "        h_relu=torch.nn.functional.relu(h) #為何activation and hidden layer 的實現方式不同\n",
    "        b=self.linear_2(h_relu) \n",
    "        b_relu=torch.nn.functional.relu(b)\n",
    "        y_pred=self.linear_3(b_relu) \n",
    "        return y_pred\n",
    "    \n",
    "model= TwoLayerNet(D_in=4, H=10, B=10, D_out=4)\n",
    "model=model.to(device) #這行是什麼意思? A:将模型加载到相应的设备"
   ]
  },
  {
   "cell_type": "code",
   "execution_count": 12,
   "id": "03232956",
   "metadata": {
    "scrolled": true
   },
   "outputs": [],
   "source": [
    "optimizer=torch.optim.Adam(model.parameters(), lr=1e-4)"
   ]
  },
  {
   "cell_type": "code",
   "execution_count": 13,
   "id": "8f5de301",
   "metadata": {},
   "outputs": [
    {
     "name": "stdout",
     "output_type": "stream",
     "text": [
      "Epochs:  0 ; Loss:  3.9083609580993652\n",
      "Epochs:  100 ; Loss:  3.7692551612854004\n",
      "Epochs:  200 ; Loss:  3.6108977794647217\n",
      "Epochs:  300 ; Loss:  3.422281265258789\n",
      "Epochs:  400 ; Loss:  3.202862024307251\n",
      "Epochs:  500 ; Loss:  2.957035541534424\n",
      "Epochs:  600 ; Loss:  2.6981201171875\n",
      "Epochs:  700 ; Loss:  2.436577081680298\n",
      "Epochs:  800 ; Loss:  2.177668809890747\n",
      "Epochs:  900 ; Loss:  1.9294313192367554\n",
      "Epochs:  1000 ; Loss:  1.6992769241333008\n",
      "Epochs:  1100 ; Loss:  1.4843497276306152\n",
      "Epochs:  1200 ; Loss:  1.2873966693878174\n",
      "Epochs:  1300 ; Loss:  1.1122300624847412\n",
      "Epochs:  1400 ; Loss:  0.9558464884757996\n",
      "Epochs:  1500 ; Loss:  0.8174313902854919\n",
      "Epochs:  1600 ; Loss:  0.6958279609680176\n",
      "Epochs:  1700 ; Loss:  0.5891277194023132\n",
      "Epochs:  1800 ; Loss:  0.49565085768699646\n",
      "Epochs:  1900 ; Loss:  0.421222448348999\n",
      "Epochs:  2000 ; Loss:  0.36280763149261475\n",
      "Epochs:  2100 ; Loss:  0.31765249371528625\n",
      "Epochs:  2200 ; Loss:  0.2825784981250763\n",
      "Epochs:  2300 ; Loss:  0.25503918528556824\n",
      "Epochs:  2400 ; Loss:  0.232707217335701\n",
      "Epochs:  2500 ; Loss:  0.21350370347499847\n",
      "Epochs:  2600 ; Loss:  0.19756978750228882\n",
      "Epochs:  2700 ; Loss:  0.18412147462368011\n",
      "Epochs:  2800 ; Loss:  0.1722499132156372\n",
      "Epochs:  2900 ; Loss:  0.16128674149513245\n",
      "Epochs:  3000 ; Loss:  0.1506272554397583\n",
      "Epochs:  3100 ; Loss:  0.14093399047851562\n",
      "Epochs:  3200 ; Loss:  0.13186614215373993\n",
      "Epochs:  3300 ; Loss:  0.1234496533870697\n",
      "Epochs:  3400 ; Loss:  0.11556059122085571\n",
      "Epochs:  3500 ; Loss:  0.10785899311304092\n",
      "Epochs:  3600 ; Loss:  0.10105837881565094\n",
      "Epochs:  3700 ; Loss:  0.09455980360507965\n",
      "Epochs:  3800 ; Loss:  0.08843574672937393\n",
      "Epochs:  3900 ; Loss:  0.08271286636590958\n",
      "Epochs:  4000 ; Loss:  0.07742451131343842\n",
      "Epochs:  4100 ; Loss:  0.07266508042812347\n",
      "Epochs:  4200 ; Loss:  0.06832628697156906\n",
      "Epochs:  4300 ; Loss:  0.06419141590595245\n",
      "Epochs:  4400 ; Loss:  0.060324594378471375\n",
      "Epochs:  4500 ; Loss:  0.0563964806497097\n",
      "Epochs:  4600 ; Loss:  0.052875980734825134\n",
      "Epochs:  4700 ; Loss:  0.049687158316373825\n",
      "Epochs:  4800 ; Loss:  0.04657358303666115\n",
      "Epochs:  4900 ; Loss:  0.04374603182077408\n",
      "Epochs:  5000 ; Loss:  0.04121309891343117\n",
      "Epochs:  5100 ; Loss:  0.038564831018447876\n",
      "Epochs:  5200 ; Loss:  0.03601577877998352\n",
      "Epochs:  5300 ; Loss:  0.03345160558819771\n",
      "Epochs:  5400 ; Loss:  0.03117240034043789\n",
      "Epochs:  5500 ; Loss:  0.02909313514828682\n",
      "Epochs:  5600 ; Loss:  0.027126846835017204\n",
      "Epochs:  5700 ; Loss:  0.025180725380778313\n",
      "Epochs:  5800 ; Loss:  0.023471450433135033\n",
      "Epochs:  5900 ; Loss:  0.021811019629240036\n",
      "Epochs:  6000 ; Loss:  0.020262980833649635\n",
      "Epochs:  6100 ; Loss:  0.01891052909195423\n",
      "Epochs:  6200 ; Loss:  0.017745627090334892\n",
      "Epochs:  6300 ; Loss:  0.0166630819439888\n",
      "Epochs:  6400 ; Loss:  0.0156011451035738\n",
      "Epochs:  6500 ; Loss:  0.014579091221094131\n",
      "Epochs:  6600 ; Loss:  0.013688997365534306\n",
      "Epochs:  6700 ; Loss:  0.012871519662439823\n",
      "Epochs:  6800 ; Loss:  0.012012869119644165\n",
      "Epochs:  6900 ; Loss:  0.01131092943251133\n",
      "Epochs:  7000 ; Loss:  0.010659652762115002\n",
      "Epochs:  7100 ; Loss:  0.01004798337817192\n",
      "Epochs:  7200 ; Loss:  0.00950090866535902\n",
      "Epochs:  7300 ; Loss:  0.009043272584676743\n",
      "Epochs:  7400 ; Loss:  0.008602762594819069\n",
      "Epochs:  7500 ; Loss:  0.008206076920032501\n",
      "Epochs:  7600 ; Loss:  0.007849051617085934\n",
      "Epochs:  7700 ; Loss:  0.00748312845826149\n",
      "Epochs:  7800 ; Loss:  0.007139932364225388\n",
      "Epochs:  7900 ; Loss:  0.0068209003657102585\n",
      "Epochs:  8000 ; Loss:  0.006500510964542627\n",
      "Epochs:  8100 ; Loss:  0.0061911954544484615\n",
      "Epochs:  8200 ; Loss:  0.005905211437493563\n",
      "Epochs:  8300 ; Loss:  0.0056388587690889835\n",
      "Epochs:  8400 ; Loss:  0.005385110154747963\n",
      "Epochs:  8500 ; Loss:  0.0051228683441877365\n",
      "Epochs:  8600 ; Loss:  0.004837290849536657\n",
      "Epochs:  8700 ; Loss:  0.004578544292598963\n",
      "Epochs:  8800 ; Loss:  0.0043463935144245625\n",
      "Epochs:  8900 ; Loss:  0.004152023233473301\n",
      "Epochs:  9000 ; Loss:  0.0039363340474665165\n",
      "Epochs:  9100 ; Loss:  0.003745746100321412\n",
      "Epochs:  9200 ; Loss:  0.0035068613942712545\n",
      "Epochs:  9300 ; Loss:  0.0032793190330266953\n",
      "Epochs:  9400 ; Loss:  0.003068857127800584\n",
      "Epochs:  9500 ; Loss:  0.0028954052831977606\n",
      "Epochs:  9600 ; Loss:  0.002646572655066848\n",
      "Epochs:  9700 ; Loss:  0.0023867920972406864\n",
      "Epochs:  9800 ; Loss:  0.0021470640785992146\n",
      "Epochs:  9900 ; Loss:  0.001935936394147575\n",
      "Epochs:  9999 ; Loss:  0.0017457939684391022\n"
     ]
    },
    {
     "data": {
      "text/plain": [
       "Text(0, 0.5, 'loss')"
      ]
     },
     "execution_count": 13,
     "metadata": {},
     "output_type": "execute_result"
    },
    {
     "data": {
      "image/png": "[encoded data removed]",
      "text/plain": [
       "<Figure size 432x288 with 1 Axes>"
      ]
     },
     "metadata": {
      "needs_background": "light"
     },
     "output_type": "display_data"
    }
   ],
   "source": [
    "loss_epoch=[]\n",
    "loss_values = []\n",
    "\n",
    "for epochs in range(10000):\n",
    "    \n",
    "    for x_batch, y_batch in loader:\n",
    "        # Forward pass\n",
    "        y_pred=model(x_batch)\n",
    "        loss=torch.nn.functional.mse_loss(y_pred, y_batch)\n",
    "        \n",
    "        # Backward pass\n",
    "        loss.backward()\n",
    "        \n",
    "        # Update Weights\n",
    "        optimizer.step()\n",
    "        optimizer.zero_grad()\n",
    "    \n",
    "    loss_epoch.append(epochs)\n",
    "    loss_values.append(loss.item())\n",
    "    \n",
    "    if epochs%100==0:\n",
    "        print(\"Epochs: \", epochs, \"; Loss: \", loss.item())\n",
    "\n",
    "print(\"Epochs: \", epochs, \"; Loss: \", loss.item())\n",
    "\n",
    "#Plot loss function\n",
    "from matplotlib import pyplot as plt\n",
    "plt.plot(loss_epoch, loss_values)\n",
    "plt.xlabel('epochs')\n",
    "plt.ylabel('loss')"
   ]
  },
  {
   "cell_type": "code",
   "execution_count": 14,
   "id": "09dc3d04",
   "metadata": {},
   "outputs": [],
   "source": [
    "PATH= \"model.pth\"\n",
    "torch.save(model.state_dict(), PATH)"
   ]
  },
  {
   "cell_type": "code",
   "execution_count": 9,
   "id": "5cbfec4c",
   "metadata": {
    "scrolled": true
   },
   "outputs": [],
   "source": [
    "PATH= \"model_jit.pth\"\n",
    "traced_net=torch.jit.trace(model, torch.randn(1,4))\n",
    "torch.jit.save(traced_net, PATH)"
   ]
  },
  {
   "cell_type": "code",
   "execution_count": 10,
   "id": "ac7e9d34",
   "metadata": {},
   "outputs": [],
   "source": [
    "PATH= \"model_jit.pth\"\n",
    "traced_net=torch.jit.trace(model, torch.randn(1,4))\n",
    "traced_net.to(torch.float64)\n",
    "torch.jit.save(traced_net, PATH)"
   ]
  },
  {
   "cell_type": "code",
   "execution_count": 16,
   "id": "dfac7f9a",
   "metadata": {},
   "outputs": [
    {
     "data": {
      "text/plain": [
       "TwoLayerNet(\n",
       "  (linear_1): Linear(in_features=4, out_features=10, bias=True)\n",
       "  (linear_2): Linear(in_features=10, out_features=10, bias=True)\n",
       "  (linear_3): Linear(in_features=10, out_features=4, bias=True)\n",
       ")"
      ]
     },
     "execution_count": 16,
     "metadata": {},
     "output_type": "execute_result"
    }
   ],
   "source": [
    "PATH= \"model.pth\"\n",
    "model= TwoLayerNet(D_in=4, H=10, B=10, D_out=4)\n",
    "model.load_state_dict(torch.load(PATH))\n",
    "model.eval()"
   ]
  },
  {
   "cell_type": "code",
   "execution_count": 18,
   "id": "0a981e1e",
   "metadata": {},
   "outputs": [
    {
     "name": "stdout",
     "output_type": "stream",
     "text": [
      "tensor([ 2.0456,  0.0641, -0.0671, -0.0271], grad_fn=<AddBackward0>)\n"
     ]
    }
   ],
   "source": [
    "x_test=[1, 0, 0, 0]\n",
    "x_test=torch.Tensor(x_test)\n",
    "y_test=model(x_test)\n",
    "print(y_test)"
   ]
  },
  {
   "cell_type": "code",
   "execution_count": null,
   "id": "329cc698",
   "metadata": {},
   "outputs": [],
   "source": []
  }
 ],
 "metadata": {
  "kernelspec": {
   "display_name": "Python 3 (ipykernel)",
   "language": "python",
   "name": "python3"
  },
  "language_info": {
   "codemirror_mode": {
    "name": "ipython",
    "version": 3
   },
   "file_extension": ".py",
   "mimetype": "text/x-python",
   "name": "python",
   "nbconvert_exporter": "python",
   "pygments_lexer": "ipython3",
   "version": "3.9.7"
  }
 },
 "nbformat": 4,
 "nbformat_minor": 5
}
