{
 "cells": [
  {
   "cell_type": "code",
   "execution_count": 1,
   "id": "67f524e4",
   "metadata": {},
   "outputs": [],
   "source": [
    "import torch\n",
    "from torch.utils.data import TensorDataset, DataLoader\n",
    "import numpy as np"
   ]
  },
  {
   "cell_type": "code",
   "execution_count": 2,
   "id": "d3c09960",
   "metadata": {},
   "outputs": [],
   "source": [
    "device=torch.device('cpu')"
   ]
  },
  {
   "cell_type": "code",
   "execution_count": 3,
   "id": "119d73ef",
   "metadata": {},
   "outputs": [
    {
     "name": "stdout",
     "output_type": "stream",
     "text": [
      "torch.Size([204, 6724])\n"
     ]
    }
   ],
   "source": [
    "# Step 1. Prepare data-1/2\n",
    "# DataLoader wraps a Dataset and provides minibatches, shuffling, multithreading, for you\n",
    "data_in=np.loadtxt('./data/Re_100/input_u_fake.dat')\n",
    "data_out=np.loadtxt('./data/Re_100/output_p.dat')\n",
    "x=torch.Tensor(data_in)\n",
    "y=torch.Tensor(data_out)\n",
    "print(x.size())"
   ]
  },
  {
   "cell_type": "code",
   "execution_count": 4,
   "id": "45c2379e",
   "metadata": {},
   "outputs": [],
   "source": [
    "loader=DataLoader(TensorDataset(x, y), batch_size=204)"
   ]
  },
  {
   "cell_type": "code",
   "execution_count": 5,
   "id": "ce31d067",
   "metadata": {},
   "outputs": [],
   "source": [
    "# Step 2. Create model 建立model習慣建立class\n",
    "class TwoLayerNet(torch.nn.Module):\n",
    "    def __init__(self, D_in, H, B, D_out):\n",
    "        super(TwoLayerNet, self).__init__()\n",
    "        self.linear_1=torch.nn.Linear(D_in, H)\n",
    "        self.linear_2=torch.nn.Linear(H, B)\n",
    "        self.linear_3=torch.nn.Linear(B, D_out)\n",
    "    \n",
    "    # Step 3. Forward pass-1/2    # Step 4. Backward pass-1/2\n",
    "    def forward(self, x):\n",
    "        h=self.linear_1(x)\n",
    "        h_relu=torch.nn.functional.relu(h) #為何activation and hidden layer 的實現方式不同\n",
    "        b=self.linear_2(h_relu) \n",
    "        b_relu=torch.nn.functional.relu(b)\n",
    "        y_pred=self.linear_3(b_relu) \n",
    "        return y_pred\n",
    "    \n",
    "model= TwoLayerNet(D_in=6724, H=1000, B=100, D_out=6724)\n",
    "model=model.to(device) #這行是什麼意思? A:将模型加载到相应的设备"
   ]
  },
  {
   "cell_type": "code",
   "execution_count": 7,
   "id": "03232956",
   "metadata": {
    "scrolled": true
   },
   "outputs": [],
   "source": [
    "optimizer=torch.optim.Adam(model.parameters(), lr=1e-4)"
   ]
  },
  {
   "cell_type": "code",
   "execution_count": 9,
   "id": "8f5de301",
   "metadata": {},
   "outputs": [
    {
     "name": "stdout",
     "output_type": "stream",
     "text": [
      "Epochs:  0 ; Loss:  0.00033289470593445003\n",
      "Epochs:  100 ; Loss:  0.00013545327237807214\n",
      "Epochs:  200 ; Loss:  8.530095510650426e-05\n",
      "Epochs:  300 ; Loss:  5.4840787925058976e-05\n",
      "Epochs:  400 ; Loss:  3.8665828469675034e-05\n",
      "Epochs:  500 ; Loss:  3.2389081752626225e-05\n",
      "Epochs:  600 ; Loss:  2.9072400138829835e-05\n",
      "Epochs:  700 ; Loss:  2.6209016141365282e-05\n",
      "Epochs:  800 ; Loss:  2.4275848772958852e-05\n",
      "Epochs:  900 ; Loss:  2.304793451912701e-05\n",
      "Epochs:  1000 ; Loss:  2.2288410036708228e-05\n",
      "Epochs:  1100 ; Loss:  2.1451982320286334e-05\n",
      "Epochs:  1200 ; Loss:  2.1179719624342397e-05\n",
      "Epochs:  1300 ; Loss:  1.9488406906020828e-05\n",
      "Epochs:  1400 ; Loss:  1.749586772348266e-05\n",
      "Epochs:  1500 ; Loss:  1.5233260455715936e-05\n",
      "Epochs:  1600 ; Loss:  1.2090915333828889e-05\n",
      "Epochs:  1700 ; Loss:  9.547118679620326e-06\n",
      "Epochs:  1800 ; Loss:  7.71066788729513e-06\n",
      "Epochs:  1900 ; Loss:  6.43211660644738e-06\n",
      "Epochs:  2000 ; Loss:  6.472409950220026e-06\n",
      "Epochs:  2100 ; Loss:  5.922214313613949e-06\n",
      "Epochs:  2200 ; Loss:  5.340787083696341e-06\n",
      "Epochs:  2300 ; Loss:  5.094728749099886e-06\n",
      "Epochs:  2400 ; Loss:  4.773081400344381e-06\n",
      "Epochs:  2500 ; Loss:  6.153791218821425e-06\n",
      "Epochs:  2600 ; Loss:  6.019398369971896e-06\n",
      "Epochs:  2700 ; Loss:  4.719987373391632e-06\n",
      "Epochs:  2800 ; Loss:  5.62276181881316e-06\n",
      "Epochs:  2900 ; Loss:  5.074334694654681e-06\n",
      "Epochs:  3000 ; Loss:  4.795209861185867e-06\n",
      "Epochs:  3100 ; Loss:  4.753170742333168e-06\n",
      "Epochs:  3200 ; Loss:  4.750522293761605e-06\n",
      "Epochs:  3300 ; Loss:  4.689139132096898e-06\n",
      "Epochs:  3400 ; Loss:  5.314958343660692e-06\n",
      "Epochs:  3500 ; Loss:  4.554154656943865e-06\n",
      "Epochs:  3600 ; Loss:  5.0898324843728915e-06\n",
      "Epochs:  3700 ; Loss:  4.5082279029884376e-06\n",
      "Epochs:  3800 ; Loss:  4.396625172375934e-06\n",
      "Epochs:  3900 ; Loss:  5.28941563970875e-06\n",
      "Epochs:  4000 ; Loss:  4.362622348708101e-06\n",
      "Epochs:  4100 ; Loss:  4.275795163266594e-06\n",
      "Epochs:  4200 ; Loss:  4.3125241973029915e-06\n",
      "Epochs:  4300 ; Loss:  4.018983418063726e-06\n",
      "Epochs:  4400 ; Loss:  3.944326635973994e-06\n",
      "Epochs:  4500 ; Loss:  3.884569196088705e-06\n",
      "Epochs:  4600 ; Loss:  3.736017333721975e-06\n",
      "Epochs:  4700 ; Loss:  3.4086131108779227e-06\n",
      "Epochs:  4800 ; Loss:  3.7393490401882445e-06\n",
      "Epochs:  4900 ; Loss:  2.9469372293533524e-06\n",
      "Epochs:  5000 ; Loss:  2.806788188536302e-06\n",
      "Epochs:  5100 ; Loss:  2.5699941943457816e-06\n",
      "Epochs:  5200 ; Loss:  2.9051423098280793e-06\n",
      "Epochs:  5300 ; Loss:  2.121903662555269e-06\n",
      "Epochs:  5400 ; Loss:  2.1090647805976914e-06\n",
      "Epochs:  5500 ; Loss:  2.044398115685908e-06\n",
      "Epochs:  5600 ; Loss:  1.9905019144061953e-06\n",
      "Epochs:  5700 ; Loss:  1.8576014326754375e-06\n",
      "Epochs:  5800 ; Loss:  2.3008303742244607e-06\n",
      "Epochs:  5900 ; Loss:  1.68587280313659e-06\n",
      "Epochs:  6000 ; Loss:  1.4488165334114456e-06\n",
      "Epochs:  6100 ; Loss:  1.641458879930724e-06\n",
      "Epochs:  6200 ; Loss:  1.4023385119799059e-06\n",
      "Epochs:  6300 ; Loss:  1.7850908307082136e-06\n",
      "Epochs:  6400 ; Loss:  1.438006506759848e-06\n",
      "Epochs:  6500 ; Loss:  1.4470068663285929e-06\n",
      "Epochs:  6600 ; Loss:  1.3371958402785822e-06\n",
      "Epochs:  6700 ; Loss:  1.7201671198563417e-06\n",
      "Epochs:  6800 ; Loss:  1.2085682783435914e-06\n",
      "Epochs:  6900 ; Loss:  1.1663798886729637e-06\n",
      "Epochs:  7000 ; Loss:  1.2005417602267698e-06\n",
      "Epochs:  7100 ; Loss:  1.1893328064616071e-06\n",
      "Epochs:  7200 ; Loss:  1.1399042705306783e-06\n",
      "Epochs:  7300 ; Loss:  1.3378564744925825e-06\n",
      "Epochs:  7400 ; Loss:  1.2037919532303931e-06\n",
      "Epochs:  7500 ; Loss:  1.1327052789056324e-06\n",
      "Epochs:  7600 ; Loss:  1.1688098311424255e-06\n",
      "Epochs:  7700 ; Loss:  1.206815682053275e-06\n",
      "Epochs:  7800 ; Loss:  1.306541207668488e-06\n",
      "Epochs:  7900 ; Loss:  1.4976835700508673e-06\n",
      "Epochs:  8000 ; Loss:  1.5049253079268965e-06\n",
      "Epochs:  8100 ; Loss:  1.220253011524619e-06\n",
      "Epochs:  8200 ; Loss:  1.3520261745725293e-06\n",
      "Epochs:  8300 ; Loss:  1.1647800874925451e-06\n",
      "Epochs:  8400 ; Loss:  1.2490258995967451e-06\n",
      "Epochs:  8500 ; Loss:  1.2640355180337792e-06\n",
      "Epochs:  8600 ; Loss:  1.1408901627874002e-06\n",
      "Epochs:  8700 ; Loss:  1.2221746601426275e-06\n",
      "Epochs:  8800 ; Loss:  1.168007543128624e-06\n",
      "Epochs:  8900 ; Loss:  1.2937924793732236e-06\n",
      "Epochs:  9000 ; Loss:  1.639341007830808e-06\n",
      "Epochs:  9100 ; Loss:  1.9344367956364295e-06\n",
      "Epochs:  9200 ; Loss:  1.3755380905422498e-06\n",
      "Epochs:  9300 ; Loss:  1.5145503766689217e-06\n",
      "Epochs:  9400 ; Loss:  2.1196590296312934e-06\n",
      "Epochs:  9500 ; Loss:  1.2458306173357414e-06\n",
      "Epochs:  9600 ; Loss:  2.7668349957821192e-06\n",
      "Epochs:  9700 ; Loss:  1.344038309980533e-06\n",
      "Epochs:  9800 ; Loss:  1.1739056162696215e-06\n",
      "Epochs:  9900 ; Loss:  1.4222373465599958e-06\n",
      "Epochs:  9999 ; Loss:  1.1784375146817183e-06\n"
     ]
    },
    {
     "data": {
      "text/plain": [
       "Text(0, 0.5, 'loss')"
      ]
     },
     "execution_count": 9,
     "metadata": {},
     "output_type": "execute_result"
    },
    {
     "data": {
      "image/png": "[encoded data removed]",
      "text/plain": [
       "<Figure size 432x288 with 1 Axes>"
      ]
     },
     "metadata": {
      "needs_background": "light"
     },
     "output_type": "display_data"
    }
   ],
   "source": [
    "loss_epoch=[]\n",
    "loss_values = []\n",
    "\n",
    "for epochs in range(10000):\n",
    "    \n",
    "    for x_batch, y_batch in loader:\n",
    "        # Forward pass\n",
    "        y_pred=model(x_batch)\n",
    "        loss=torch.nn.functional.mse_loss(y_pred, y_batch)\n",
    "        \n",
    "        # Backward pass\n",
    "        loss.backward()\n",
    "        \n",
    "        # Update Weights\n",
    "        optimizer.step()\n",
    "        optimizer.zero_grad()\n",
    "    \n",
    "    loss_epoch.append(epochs)\n",
    "    loss_values.append(loss.item())\n",
    "    \n",
    "    if epochs%100==0:\n",
    "        print(\"Epochs: \", epochs, \"; Loss: \", loss.item())\n",
    "\n",
    "print(\"Epochs: \", epochs, \"; Loss: \", loss.item())\n",
    "\n",
    "#Plot loss function\n",
    "from matplotlib import pyplot as plt\n",
    "plt.plot(loss_epoch, loss_values)\n",
    "plt.xlabel('epochs')\n",
    "plt.ylabel('loss')"
   ]
  },
  {
   "cell_type": "code",
   "execution_count": 10,
   "id": "09dc3d04",
   "metadata": {},
   "outputs": [],
   "source": [
    "PATH= \"01_model.pth\"\n",
    "torch.save(model.state_dict(), PATH)"
   ]
  },
  {
   "cell_type": "code",
   "execution_count": null,
   "id": "5cbfec4c",
   "metadata": {},
   "outputs": [],
   "source": []
  }
 ],
 "metadata": {
  "kernelspec": {
   "display_name": "Python 3 (ipykernel)",
   "language": "python",
   "name": "python3"
  },
  "language_info": {
   "codemirror_mode": {
    "name": "ipython",
    "version": 3
   },
   "file_extension": ".py",
   "mimetype": "text/x-python",
   "name": "python",
   "nbconvert_exporter": "python",
   "pygments_lexer": "ipython3",
   "version": "3.9.7"
  }
 },
 "nbformat": 4,
 "nbformat_minor": 5
}
