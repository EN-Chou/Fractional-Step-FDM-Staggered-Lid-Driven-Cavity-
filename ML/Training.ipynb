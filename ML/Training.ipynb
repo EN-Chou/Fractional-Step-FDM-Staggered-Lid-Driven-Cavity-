{
 "cells": [
  {
   "cell_type": "code",
   "execution_count": 1,
   "id": "67f524e4",
   "metadata": {},
   "outputs": [],
   "source": [
    "import torch\n",
    "from torch.utils.data import TensorDataset, DataLoader\n",
    "import numpy as np"
   ]
  },
  {
   "cell_type": "code",
   "execution_count": 2,
   "id": "d3c09960",
   "metadata": {},
   "outputs": [],
   "source": [
    "device=torch.device('cpu')"
   ]
  },
  {
   "cell_type": "code",
   "execution_count": 3,
   "id": "119d73ef",
   "metadata": {},
   "outputs": [
    {
     "name": "stdout",
     "output_type": "stream",
     "text": [
      "torch.Size([26, 6724])\n"
     ]
    }
   ],
   "source": [
    "# Step 1. Prepare data-1/2\n",
    "# DataLoader wraps a Dataset and provides minibatches, shuffling, multithreading, for you\n",
    "data_in=np.loadtxt('./data/Re_100/input_u_fake.dat')\n",
    "data_out=np.loadtxt('./data/Re_100/output_p.dat')\n",
    "x=torch.Tensor(data_in)\n",
    "y=torch.Tensor(data_out)\n",
    "print(x.size())"
   ]
  },
  {
   "cell_type": "code",
   "execution_count": 5,
   "id": "45c2379e",
   "metadata": {},
   "outputs": [],
   "source": [
    "loader=DataLoader(TensorDataset(x, y), batch_size=13)"
   ]
  },
  {
   "cell_type": "code",
   "execution_count": 6,
   "id": "ce31d067",
   "metadata": {},
   "outputs": [],
   "source": [
    "# Step 2. Create model 建立model習慣建立class\n",
    "class TwoLayerNet(torch.nn.Module):\n",
    "    def __init__(self, D_in, H, B, D_out):\n",
    "        super(TwoLayerNet, self).__init__()\n",
    "        self.linear_1=torch.nn.Linear(D_in, H)\n",
    "        self.linear_2=torch.nn.Linear(H, B)\n",
    "        self.linear_3=torch.nn.Linear(B, D_out)\n",
    "    \n",
    "    # Step 3. Forward pass-1/2    # Step 4. Backward pass-1/2\n",
    "    def forward(self, x):\n",
    "        h=self.linear_1(x)\n",
    "        h_relu=torch.nn.functional.relu(h) #為何activation and hidden layer 的實現方式不同\n",
    "        b=self.linear_2(h_relu) \n",
    "        b_relu=torch.nn.functional.relu(b)\n",
    "        y_pred=self.linear_3(b_relu) \n",
    "        return y_pred\n",
    "    \n",
    "model= TwoLayerNet(D_in=6724, H=1000, B=100, D_out=6724)\n",
    "model=model.to(device) #這行是什麼意思? A:将模型加载到相应的设备"
   ]
  },
  {
   "cell_type": "code",
   "execution_count": 7,
   "id": "03232956",
   "metadata": {
    "scrolled": true
   },
   "outputs": [],
   "source": [
    "optimizer=torch.optim.Adam(model.parameters(), lr=1e-4)"
   ]
  },
  {
   "cell_type": "code",
   "execution_count": 8,
   "id": "8f5de301",
   "metadata": {},
   "outputs": [
    {
     "name": "stdout",
     "output_type": "stream",
     "text": [
      "Epochs:  0 ; Loss:  0.00697132246568799\n",
      "Epochs:  100 ; Loss:  0.002624125685542822\n",
      "Epochs:  200 ; Loss:  0.0003126626252196729\n",
      "Epochs:  300 ; Loss:  0.00010713913070503622\n",
      "Epochs:  400 ; Loss:  7.698351691942662e-05\n",
      "Epochs:  500 ; Loss:  4.393018753034994e-05\n",
      "Epochs:  600 ; Loss:  2.655356001923792e-05\n",
      "Epochs:  700 ; Loss:  1.9167075151926838e-05\n",
      "Epochs:  800 ; Loss:  1.263797912542941e-05\n",
      "Epochs:  900 ; Loss:  1.1311513844702858e-05\n",
      "Epochs:  1000 ; Loss:  1.0350594493502285e-05\n",
      "Epochs:  1100 ; Loss:  1.1102355529146735e-05\n",
      "Epochs:  1200 ; Loss:  1.179850642074598e-05\n",
      "Epochs:  1300 ; Loss:  9.870743269857485e-06\n",
      "Epochs:  1400 ; Loss:  9.638014489610214e-06\n",
      "Epochs:  1500 ; Loss:  9.997801498684566e-06\n",
      "Epochs:  1600 ; Loss:  8.58261773828417e-06\n",
      "Epochs:  1700 ; Loss:  9.008025699586142e-06\n",
      "Epochs:  1800 ; Loss:  8.140213139995467e-06\n",
      "Epochs:  1900 ; Loss:  1.0030837984231766e-05\n",
      "Epochs:  2000 ; Loss:  6.649928764090873e-06\n",
      "Epochs:  2100 ; Loss:  7.150525561883114e-06\n",
      "Epochs:  2200 ; Loss:  6.598858362849569e-06\n",
      "Epochs:  2300 ; Loss:  5.514918939297786e-06\n",
      "Epochs:  2400 ; Loss:  5.149094249645714e-06\n",
      "Epochs:  2500 ; Loss:  4.795512268174207e-06\n",
      "Epochs:  2600 ; Loss:  4.192716005491093e-06\n",
      "Epochs:  2700 ; Loss:  4.278957931092009e-06\n",
      "Epochs:  2800 ; Loss:  4.7800854190427344e-06\n",
      "Epochs:  2900 ; Loss:  3.316195034130942e-06\n",
      "Epochs:  3000 ; Loss:  3.4534057249402395e-06\n",
      "Epochs:  3100 ; Loss:  3.3555706977494992e-06\n",
      "Epochs:  3200 ; Loss:  2.5421577447559685e-06\n",
      "Epochs:  3300 ; Loss:  4.209127382637234e-06\n",
      "Epochs:  3400 ; Loss:  4.3480031308718026e-06\n",
      "Epochs:  3500 ; Loss:  2.9140903734514723e-06\n",
      "Epochs:  3600 ; Loss:  2.0222248622303596e-06\n",
      "Epochs:  3700 ; Loss:  2.625303523018374e-06\n",
      "Epochs:  3800 ; Loss:  4.370718670543283e-06\n",
      "Epochs:  3900 ; Loss:  3.12934503199358e-06\n",
      "Epochs:  4000 ; Loss:  3.694086672112462e-06\n",
      "Epochs:  4100 ; Loss:  3.53884956894035e-06\n",
      "Epochs:  4200 ; Loss:  4.9833429329737555e-06\n",
      "Epochs:  4300 ; Loss:  2.8143933832325274e-06\n",
      "Epochs:  4400 ; Loss:  2.81216580333421e-06\n",
      "Epochs:  4500 ; Loss:  2.4784033030300634e-06\n",
      "Epochs:  4600 ; Loss:  1.9022751303054974e-06\n",
      "Epochs:  4700 ; Loss:  1.8386299416306429e-06\n",
      "Epochs:  4800 ; Loss:  3.319603365525836e-06\n",
      "Epochs:  4900 ; Loss:  2.0074999156349804e-06\n",
      "Epochs:  5000 ; Loss:  2.7090761705039768e-06\n",
      "Epochs:  5100 ; Loss:  1.9220772173866862e-06\n",
      "Epochs:  5200 ; Loss:  2.6362756671005627e-06\n",
      "Epochs:  5300 ; Loss:  2.456238917147857e-06\n",
      "Epochs:  5400 ; Loss:  2.3040954602038255e-06\n",
      "Epochs:  5500 ; Loss:  2.3451009383279597e-06\n",
      "Epochs:  5600 ; Loss:  2.548748398112366e-06\n",
      "Epochs:  5700 ; Loss:  2.2448959953180747e-06\n",
      "Epochs:  5800 ; Loss:  2.5522133455524454e-06\n",
      "Epochs:  5900 ; Loss:  2.156367827410577e-06\n",
      "Epochs:  6000 ; Loss:  1.8049930758934352e-06\n",
      "Epochs:  6100 ; Loss:  2.7735086405300535e-06\n",
      "Epochs:  6200 ; Loss:  2.0364880128909135e-06\n",
      "Epochs:  6300 ; Loss:  2.228697894679499e-06\n",
      "Epochs:  6400 ; Loss:  3.1644794944440946e-06\n",
      "Epochs:  6500 ; Loss:  3.2585105600446695e-06\n",
      "Epochs:  6600 ; Loss:  2.0688571567006875e-06\n",
      "Epochs:  6700 ; Loss:  4.035012807435123e-06\n",
      "Epochs:  6800 ; Loss:  1.7352041368212667e-06\n",
      "Epochs:  6900 ; Loss:  2.1677863060176605e-06\n",
      "Epochs:  7000 ; Loss:  2.2712729332852177e-06\n",
      "Epochs:  7100 ; Loss:  3.6832032037636964e-06\n",
      "Epochs:  7200 ; Loss:  1.8991984234162373e-06\n",
      "Epochs:  7300 ; Loss:  2.44222542278294e-06\n",
      "Epochs:  7400 ; Loss:  2.0961538211849984e-06\n",
      "Epochs:  7500 ; Loss:  1.8976816136273555e-06\n",
      "Epochs:  7600 ; Loss:  2.1714290596719366e-06\n",
      "Epochs:  7700 ; Loss:  4.13754241890274e-06\n",
      "Epochs:  7800 ; Loss:  1.721996113701607e-06\n",
      "Epochs:  7900 ; Loss:  2.153335117327515e-06\n",
      "Epochs:  8000 ; Loss:  2.6503416847845074e-06\n",
      "Epochs:  8100 ; Loss:  2.2296601400739746e-06\n",
      "Epochs:  8200 ; Loss:  2.6963327854900854e-06\n",
      "Epochs:  8300 ; Loss:  2.6780842290463625e-06\n",
      "Epochs:  8400 ; Loss:  2.34378262575774e-06\n",
      "Epochs:  8500 ; Loss:  1.977022975552245e-06\n",
      "Epochs:  8600 ; Loss:  2.6369405077275587e-06\n",
      "Epochs:  8700 ; Loss:  2.461150188537431e-06\n",
      "Epochs:  8800 ; Loss:  2.249205181215075e-06\n",
      "Epochs:  8900 ; Loss:  2.238015895272838e-06\n",
      "Epochs:  9000 ; Loss:  2.1483415366674308e-06\n",
      "Epochs:  9100 ; Loss:  2.2431911474996014e-06\n",
      "Epochs:  9200 ; Loss:  1.9533563317963853e-06\n",
      "Epochs:  9300 ; Loss:  2.2762174012314063e-06\n",
      "Epochs:  9400 ; Loss:  1.9481121853459626e-06\n",
      "Epochs:  9500 ; Loss:  3.1280540042644134e-06\n",
      "Epochs:  9600 ; Loss:  2.2902950149727985e-06\n",
      "Epochs:  9700 ; Loss:  1.980976094273501e-06\n",
      "Epochs:  9800 ; Loss:  1.666523644416884e-06\n",
      "Epochs:  9900 ; Loss:  2.4177802515623625e-06\n",
      "Epochs:  9999 ; Loss:  1.9106619220110588e-06\n"
     ]
    },
    {
     "data": {
      "text/plain": [
       "Text(0, 0.5, 'loss')"
      ]
     },
     "execution_count": 8,
     "metadata": {},
     "output_type": "execute_result"
    },
    {
     "data": {
      "image/png": "[encoded data removed]",
      "text/plain": [
       "<Figure size 432x288 with 1 Axes>"
      ]
     },
     "metadata": {
      "needs_background": "light"
     },
     "output_type": "display_data"
    }
   ],
   "source": [
    "loss_epoch=[]\n",
    "loss_values = []\n",
    "\n",
    "for epochs in range(10000):\n",
    "    \n",
    "    for x_batch, y_batch in loader:\n",
    "        # Forward pass\n",
    "        y_pred=model(x_batch)\n",
    "        loss=torch.nn.functional.mse_loss(y_pred, y_batch)\n",
    "        \n",
    "        # Backward pass\n",
    "        loss.backward()\n",
    "        \n",
    "        # Update Weights\n",
    "        optimizer.step()\n",
    "        optimizer.zero_grad()\n",
    "    \n",
    "    loss_epoch.append(epochs)\n",
    "    loss_values.append(loss.item())\n",
    "    \n",
    "    if epochs%100==0:\n",
    "        print(\"Epochs: \", epochs, \"; Loss: \", loss.item())\n",
    "\n",
    "print(\"Epochs: \", epochs, \"; Loss: \", loss.item())\n",
    "\n",
    "#Plot loss function\n",
    "from matplotlib import pyplot as plt\n",
    "plt.plot(loss_epoch, loss_values)\n",
    "plt.xlabel('epochs')\n",
    "plt.ylabel('loss')"
   ]
  },
  {
   "cell_type": "code",
   "execution_count": 10,
   "id": "09dc3d04",
   "metadata": {},
   "outputs": [],
   "source": [
    "PATH= \"model.pth\"\n",
    "torch.save(model.state_dict(), PATH)"
   ]
  },
  {
   "cell_type": "code",
   "execution_count": 9,
   "id": "5cbfec4c",
   "metadata": {},
   "outputs": [],
   "source": [
    "PATH= \"model_jit.pth\"\n",
    "traced_net=torch.jit.trace(model, torch.randn(1,6724))\n",
    "traced_net.to(torch.float64)\n",
    "torch.jit.save(traced_net, PATH)"
   ]
  },
  {
   "cell_type": "code",
   "execution_count": null,
   "id": "692590a3",
   "metadata": {},
   "outputs": [],
   "source": []
  }
 ],
 "metadata": {
  "kernelspec": {
   "display_name": "Python 3 (ipykernel)",
   "language": "python",
   "name": "python3"
  },
  "language_info": {
   "codemirror_mode": {
    "name": "ipython",
    "version": 3
   },
   "file_extension": ".py",
   "mimetype": "text/x-python",
   "name": "python",
   "nbconvert_exporter": "python",
   "pygments_lexer": "ipython3",
   "version": "3.9.7"
  }
 },
 "nbformat": 4,
 "nbformat_minor": 5
}
