{
 "cells": [
  {
   "cell_type": "code",
   "execution_count": 1,
   "id": "2225eb56",
   "metadata": {},
   "outputs": [],
   "source": [
    "import torch\n",
    "from torch.utils.data import TensorDataset, DataLoader"
   ]
  },
  {
   "cell_type": "code",
   "execution_count": 2,
   "id": "5fd44d5c",
   "metadata": {},
   "outputs": [],
   "source": [
    "device=torch.device('cpu')\n",
    "learning_rate=1e-4"
   ]
  },
  {
   "cell_type": "code",
   "execution_count": 3,
   "id": "00c481de",
   "metadata": {},
   "outputs": [],
   "source": [
    "# Step 1. Prepare data-1/2\n",
    "# DataLoader wraps a Dataset and provides minibatches, shuffling, multithreading, for you\n",
    "x=torch.randn(64, 6724, device=device) #Input dimension of 1000\n",
    "y=torch.randn(64, 6724, device=device) #Output dimension of 10 i.e, ground-truth dimension\n",
    "loader=DataLoader(TensorDataset(x, y), batch_size=8)"
   ]
  },
  {
   "cell_type": "code",
   "execution_count": 4,
   "id": "9b2927d6",
   "metadata": {},
   "outputs": [],
   "source": [
    "# Step 2. Create model 建立model習慣建立class\n",
    "class TwoLayerNet(torch.nn.Module):\n",
    "    def __init__(self, D_in, H, B, D_out):\n",
    "        super(TwoLayerNet, self).__init__()\n",
    "        self.linear_1=torch.nn.Linear(D_in, H)\n",
    "        self.linear_2=torch.nn.Linear(H, B)\n",
    "        self.linear_3=torch.nn.Linear(B, D_out)\n",
    "    \n",
    "    # Step 3. Forward pass-1/2    # Step 4. Backward pass-1/2\n",
    "    def forward(self, x):\n",
    "        h=self.linear_1(x)\n",
    "        h_relu=torch.nn.functional.relu(h) #為何activation and hidden layer 的實現方式不同\n",
    "        b=self.linear_2(h_relu) \n",
    "        b_relu=torch.nn.functional.relu(b)\n",
    "        y_pred=self.linear_3(b_relu) \n",
    "        return y_pred\n",
    "    \n",
    "model= TwoLayerNet(D_in=6724, H=1000, B=100, D_out=6724)\n",
    "model=model.to(device) #這行是什麼意思? A:将模型加载到相应的设备"
   ]
  },
  {
   "cell_type": "code",
   "execution_count": 5,
   "id": "40f022e5",
   "metadata": {},
   "outputs": [],
   "source": [
    "optimizer=torch.optim.Adam(model.parameters(), lr=learning_rate)"
   ]
  },
  {
   "cell_type": "code",
   "execution_count": 6,
   "id": "93a8f78f",
   "metadata": {},
   "outputs": [
    {
     "name": "stdout",
     "output_type": "stream",
     "text": [
      "Epochs:  0 ; Loss:  1.0086227655410767\n",
      "Epochs:  0 ; Loss:  1.0131409168243408\n",
      "Epochs:  0 ; Loss:  1.0139200687408447\n",
      "Epochs:  0 ; Loss:  1.0070782899856567\n",
      "Epochs:  0 ; Loss:  1.0071799755096436\n",
      "Epochs:  0 ; Loss:  1.0058646202087402\n",
      "Epochs:  0 ; Loss:  1.0075047016143799\n",
      "Epochs:  0 ; Loss:  1.0086654424667358\n",
      "Epochs:  100 ; Loss:  0.5102664828300476\n",
      "Epochs:  100 ; Loss:  0.51584392786026\n",
      "Epochs:  100 ; Loss:  0.5135665535926819\n",
      "Epochs:  100 ; Loss:  0.5940473675727844\n",
      "Epochs:  100 ; Loss:  0.586678147315979\n",
      "Epochs:  100 ; Loss:  0.5477784276008606\n",
      "Epochs:  100 ; Loss:  0.5792096257209778\n",
      "Epochs:  100 ; Loss:  0.587497353553772\n",
      "Epochs:  200 ; Loss:  0.18174192309379578\n",
      "Epochs:  200 ; Loss:  0.17176754772663116\n",
      "Epochs:  200 ; Loss:  0.17608727514743805\n",
      "Epochs:  200 ; Loss:  0.21699178218841553\n",
      "Epochs:  200 ; Loss:  0.24176450073719025\n",
      "Epochs:  200 ; Loss:  0.21093463897705078\n",
      "Epochs:  200 ; Loss:  0.2151733636856079\n",
      "Epochs:  200 ; Loss:  0.21639111638069153\n",
      "Epochs:  300 ; Loss:  0.05432261526584625\n",
      "Epochs:  300 ; Loss:  0.051216237246990204\n",
      "Epochs:  300 ; Loss:  0.04930602014064789\n",
      "Epochs:  300 ; Loss:  0.059550587087869644\n",
      "Epochs:  300 ; Loss:  0.07621113210916519\n",
      "Epochs:  300 ; Loss:  0.06630079448223114\n",
      "Epochs:  300 ; Loss:  0.06023868918418884\n",
      "Epochs:  300 ; Loss:  0.061285629868507385\n",
      "Epochs:  400 ; Loss:  0.010836475528776646\n",
      "Epochs:  400 ; Loss:  0.011071099899709225\n",
      "Epochs:  400 ; Loss:  0.00950236339122057\n",
      "Epochs:  400 ; Loss:  0.011514034122228622\n",
      "Epochs:  400 ; Loss:  0.0156689640134573\n",
      "Epochs:  400 ; Loss:  0.01380070112645626\n",
      "Epochs:  400 ; Loss:  0.011702640913426876\n",
      "Epochs:  400 ; Loss:  0.012407380156219006\n"
     ]
    },
    {
     "data": {
      "text/plain": [
       "Text(0, 0.5, 'loss')"
      ]
     },
     "execution_count": 6,
     "metadata": {},
     "output_type": "execute_result"
    },
    {
     "data": {
      "image/png": "[encoded data removed]",
      "text/plain": [
       "<Figure size 432x288 with 1 Axes>"
      ]
     },
     "metadata": {
      "needs_background": "light"
     },
     "output_type": "display_data"
    }
   ],
   "source": [
    "# Step 1. Prepare data-2/2\n",
    "# Iterate over loader to form mini-batches\n",
    "# Batch aims to deal with memory limitation in GPU\n",
    "\n",
    "loss_epoch=[]\n",
    "loss_values = []\n",
    "\n",
    "for epochs in range(500):\n",
    "    # Step 3. Forward pass-2/2  \n",
    "    # Feed data to model, and compute loss\n",
    "    \n",
    "    for x_batch, y_batch in loader:\n",
    "        y_pred=model(x_batch) #為何不是 model.forward(x_batch) #Forward 過程中同時建立computational graph\n",
    "        loss=torch.nn.functional.mse_loss(y_pred, y_batch) #Loss functions 是被定義在torch.nn.functional中\n",
    "        \n",
    "        # Step 4. Backward pass-2/2\n",
    "        # Compute gradient of loss wrt all model weights\n",
    "        loss.backward()\n",
    "        \n",
    "        # Step 5. Update Weights\n",
    "        optimizer.step()\n",
    "        optimizer.zero_grad() #此步為清空，否則會影響下一步gradient的計算\n",
    "        if epochs%100==0:\n",
    "            print(\"Epochs: \", epochs, \"; Loss: \", loss.item())\n",
    "    \n",
    "    loss_epoch.append(epochs)\n",
    "    loss_values.append(loss.item())\n",
    "\n",
    "    if loss<1e-6: #stop training criterion\n",
    "        print(\"Epochs: \", epochs, \"; Loss: \", loss.item())\n",
    "        break\n",
    "\n",
    "\n",
    "#Plot loss function\n",
    "from matplotlib import pyplot as plt\n",
    "plt.plot(loss_epoch, loss_values)\n",
    "plt.xlabel('epochs')\n",
    "plt.ylabel('loss')"
   ]
  },
  {
   "cell_type": "code",
   "execution_count": 7,
   "id": "b21522af",
   "metadata": {},
   "outputs": [],
   "source": [
    "PATH= \"01_model.pth\"\n",
    "torch.save(model.state_dict(), PATH)"
   ]
  },
  {
   "cell_type": "code",
   "execution_count": 9,
   "id": "e796b634",
   "metadata": {},
   "outputs": [],
   "source": [
    "PATH2= \"01_model_jit.pth\"\n",
    "traced_net=torch.jit.trace(model, torch.randn(1,6724))\n",
    "torch.jit.save(traced_net, PATH2)"
   ]
  },
  {
   "cell_type": "code",
   "execution_count": null,
   "id": "9ed9077b",
   "metadata": {},
   "outputs": [],
   "source": []
  }
 ],
 "metadata": {
  "kernelspec": {
   "display_name": "Python 3 (ipykernel)",
   "language": "python",
   "name": "python3"
  },
  "language_info": {
   "codemirror_mode": {
    "name": "ipython",
    "version": 3
   },
   "file_extension": ".py",
   "mimetype": "text/x-python",
   "name": "python",
   "nbconvert_exporter": "python",
   "pygments_lexer": "ipython3",
   "version": "3.10.4"
  }
 },
 "nbformat": 4,
 "nbformat_minor": 5
}
